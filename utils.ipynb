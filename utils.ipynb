{
 "cells": [
  {
   "cell_type": "code",
   "execution_count": 1,
   "metadata": {},
   "outputs": [],
   "source": [
    "import numpy as np\n",
    "import matplotlib.pyplot as plt\n",
    "import seaborn; seaborn.set()\n",
    "\n",
    "import warnings\n",
    "warnings.filterwarnings('ignore')"
   ]
  },
  {
   "cell_type": "markdown",
   "metadata": {},
   "source": [
    "# Loading of dataset"
   ]
  },
  {
   "cell_type": "code",
   "execution_count": 2,
   "metadata": {},
   "outputs": [],
   "source": [
    "from cesium import datasets\n",
    "\n",
    "def loadDataset():\n",
    "    eeg = datasets.fetch_andrzejak()\n",
    "    \n",
    "    # Group together classes (Z, O), (N, F), (S) as normal, interictal, ictal\n",
    "    eeg[\"classes\"] = eeg[\"classes\"].astype(\"U16\") #  allocate memory for longer class names\n",
    "    eeg[\"classes\"][np.logical_or(eeg[\"classes\"]==\"Z\", eeg[\"classes\"]==\"O\")] = \"Normal\"\n",
    "    eeg[\"classes\"][np.logical_or(eeg[\"classes\"]==\"N\", eeg[\"classes\"]==\"F\")] = \"Interictal\"\n",
    "    eeg[\"classes\"][eeg[\"classes\"]==\"S\"] = \"Ictal\"\n",
    "    \n",
    "    return eeg"
   ]
  },
  {
   "cell_type": "code",
   "execution_count": 3,
   "metadata": {},
   "outputs": [],
   "source": [
    "def describeEEGDataset(eeg):\n",
    "    fig, ax = plt.subplots(len(np.unique(eeg[\"classes\"])), 1, sharey=True, figsize=(16,10))\n",
    "    for label, subplot in zip(np.unique(eeg[\"classes\"]), ax):\n",
    "        i = np.where(eeg[\"classes\"] == label)[0][0]\n",
    "        subplot.plot(eeg[\"times\"][i], eeg[\"measurements\"][i])\n",
    "        subplot.set(xlabel=\"time (s)\", ylabel=\"signal\", title=label)"
   ]
  },
  {
   "cell_type": "markdown",
   "metadata": {},
   "source": [
    "# Adding of noise"
   ]
  },
  {
   "cell_type": "code",
   "execution_count": 4,
   "metadata": {},
   "outputs": [],
   "source": [
    "from scipy.signal import chirp,sawtooth"
   ]
  },
  {
   "cell_type": "code",
   "execution_count": 5,
   "metadata": {},
   "outputs": [],
   "source": [
    "def addNoiseToEEG(eeg, freq, amp):\n",
    "    # Add noise\n",
    "    mu, sigma = 0, 3.3 # mean and standard deviation\n",
    "    x = len(eeg[\"times\"][0])\n",
    "    \n",
    "    noised = eeg[\"measurements\"].copy()\n",
    "\n",
    "    for i in range(0, 500):\n",
    "        noised[i] = eeg[\"measurements\"][i] + \\\n",
    "        amp * np.random.normal(mu, sigma, x) + \\\n",
    "        amp * chirp(eeg[\"times\"][i], f0=freq, f1=1, t1=10, method='linear') + \\\n",
    "        amp * sawtooth(2 * np.pi * freq * eeg[\"times\"][i])\n",
    "        \n",
    "    return noised"
   ]
  },
  {
   "cell_type": "markdown",
   "metadata": {},
   "source": [
    "# Classifiers"
   ]
  },
  {
   "cell_type": "code",
   "execution_count": 6,
   "metadata": {},
   "outputs": [],
   "source": [
    "from sklearn.ensemble import RandomForestClassifier\n",
    "from sklearn.neighbors import KNeighborsClassifier\n",
    "from sklearn.model_selection import train_test_split\n",
    "from sklearn.metrics import accuracy_score"
   ]
  },
  {
   "cell_type": "markdown",
   "metadata": {},
   "source": [
    "# Featurization functions"
   ]
  },
  {
   "cell_type": "code",
   "execution_count": 7,
   "metadata": {},
   "outputs": [],
   "source": [
    "import numpy as np\n",
    "import scipy.stats\n",
    "from cesium import featurize\n",
    "import pywt\n",
    "from cesium import featurize\n",
    "\n",
    "features_to_use = [\"amplitude\",\n",
    "                   \"percent_beyond_1_std\",\n",
    "                   \"maximum\",\n",
    "                   \"max_slope\",\n",
    "                   \"median\",\n",
    "                   \"median_absolute_deviation\",\n",
    "                   \"percent_close_to_median\",\n",
    "                   \"minimum\",\n",
    "                   \"skew\",\n",
    "                   \"std\",\n",
    "                   \"weighted_average\"]\n",
    "\n",
    "# guo\n",
    "def mean_signal(t, m, e):\n",
    "    return np.mean(m)\n",
    "\n",
    "def std_signal(t, m, e):\n",
    "    return np.std(m)\n",
    "\n",
    "def mean_square_signal(t, m, e):\n",
    "    return np.mean(m ** 2)\n",
    "\n",
    "def abs_diffs_signal(t, m, e):\n",
    "    return np.sum(np.abs(np.diff(m)))\n",
    "\n",
    "def skew_signal(t, m, e):\n",
    "    return scipy.stats.skew(m)\n",
    "\n",
    "%run custom_methods.ipynb\n",
    "\n",
    "def hurst_signal(t, m, e):\n",
    "    return hurst(m)\n",
    "\n",
    "guo_features = {\n",
    "    \"mean\": mean_signal,\n",
    "    \"std\": std_signal,\n",
    "    \"mean2\": mean_square_signal,\n",
    "    \"abs_diffs\": abs_diffs_signal,\n",
    "    \"skew\": skew_signal,\n",
    "    \"hurst\": hurst_signal\n",
    "}"
   ]
  },
  {
   "cell_type": "code",
   "execution_count": 8,
   "metadata": {},
   "outputs": [],
   "source": [
    "def runSimpleClassifier(eeg):\n",
    "    fset = featurize.featurize_time_series(times=eeg[\"times\"],\n",
    "                                              values=eeg[\"noisy_measurements\"],\n",
    "                                              errors=None,\n",
    "                                              features_to_use=features_to_use)\n",
    "    \n",
    "    # Model building\n",
    "    train, test = train_test_split(np.arange(len(eeg[\"classes\"])), random_state=17)\n",
    "    \n",
    "    model = RandomForestClassifier(n_estimators=128, max_features=\"auto\",\n",
    "                                      random_state=0)\n",
    "    model.fit(fset.iloc[train], eeg[\"classes\"][train])\n",
    "    \n",
    "    # prediction\n",
    "    preds = model.predict(fset)\n",
    "    \n",
    "    train_r = accuracy_score(preds[train], eeg[\"classes\"][train])\n",
    "    test_r = accuracy_score(preds[test], eeg[\"classes\"][test])\n",
    "    \n",
    "    return train_r, test_r"
   ]
  },
  {
   "cell_type": "code",
   "execution_count": 9,
   "metadata": {},
   "outputs": [],
   "source": [
    "def runGuoClassifier(eeg):\n",
    "    # Featurize\n",
    "    # guo\n",
    "    n_channels = 5\n",
    "    eeg[\"dwts\"] = [pywt.wavedec(m, pywt.Wavelet(\"db1\"), level=n_channels-1)\n",
    "                   for m in eeg[\"noisy_measurements\"]]\n",
    "    fset = featurize.featurize_time_series(times=None, values=eeg[\"dwts\"], errors=None,\n",
    "                                           features_to_use=list(guo_features.keys()),\n",
    "                                           custom_functions=guo_features)\n",
    "    \n",
    "    # Model building\n",
    "    train, test = train_test_split(np.arange(len(eeg[\"classes\"])), random_state=17)\n",
    "\n",
    "    model = KNeighborsClassifier(3)\n",
    "    model.fit(fset.iloc[train], eeg[\"classes\"][train])\n",
    "\n",
    "    # Prediction\n",
    "    preds = model.predict(fset)\n",
    "    \n",
    "    train_r = accuracy_score(preds[train], eeg[\"classes\"][train])\n",
    "    test_r = accuracy_score(preds[test], eeg[\"classes\"][test])\n",
    "    \n",
    "    return train_r, test_r"
   ]
  },
  {
   "cell_type": "code",
   "execution_count": null,
   "metadata": {},
   "outputs": [],
   "source": []
  }
 ],
 "metadata": {
  "kernelspec": {
   "display_name": "Python 3",
   "language": "python",
   "name": "python3"
  },
  "language_info": {
   "codemirror_mode": {
    "name": "ipython",
    "version": 3
   },
   "file_extension": ".py",
   "mimetype": "text/x-python",
   "name": "python",
   "nbconvert_exporter": "python",
   "pygments_lexer": "ipython3",
   "version": "3.7.2"
  }
 },
 "nbformat": 4,
 "nbformat_minor": 2
}
